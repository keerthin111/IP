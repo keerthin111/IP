{
 "cells": [
  {
   "cell_type": "code",
   "execution_count": 6,
   "id": "2a5cfa7a",
   "metadata": {},
   "outputs": [],
   "source": [
    "#importing laibraries\n",
    "import cv2 \n",
    "import numpy as np\n",
    "image=cv2.imread('img4.jpg')\n",
    "cv2.imshow('original Image',image)\n",
    "cv2.waitKey(0)\n",
    "#Gaussian Blur\n",
    "Gaussian=cv2.GaussianBlur(image,(7,7),0)\n",
    "cv2.imshow('Gaussian Blurring',Gaussian)\n",
    "cv2.waitKey(0)\n",
    "#Median Blur\n",
    "median=cv2.medianBlur(image,5)\n",
    "cv2.imshow('Median Blurring',median)\n",
    "cv2.waitKey(0)\n",
    "#Bilateral Blur\n",
    "bilateral=cv2.bilateralFilter(image,9,75,75)\n",
    "cv2.imshow('Bilateral Blurring',bilateral)\n",
    "cv2.waitKey(0)\n",
    "cv2.destroyAllWindows()"
   ]
  },
  {
   "cell_type": "code",
   "execution_count": 7,
   "id": "aed29a17",
   "metadata": {},
   "outputs": [],
   "source": [
    "from PIL import Image\n",
    "from PIL import ImageEnhance\n",
    "image=Image.open('img1.jpg') \n",
    "image.show()\n",
    "enh_bri=ImageEnhance.Brightness (image)\n",
    "brightness=1.5\n",
    "image_brightened = enh_bri.enhance (brightness)\n",
    "image_brightened.show()\n",
    "enh_col = ImageEnhance.Color(image)\n",
    "color = 1.5\n",
    "image_colored = enh_col. enhance (color)\n",
    "image_colored.show() \n",
    "enh_con=ImageEnhance.Contrast (image)\n",
    "contrast = 1.5\n",
    "image_contrasted = enh_con. enhance (contrast)\n",
    "image_contrasted.show()\n",
    "enh_sha =ImageEnhance. Sharpness (image)\n",
    "sharpness = 3.0\n",
    "image_sharped = enh_sha. enhance (sharpness)\n",
    "image_sharped.show()"
   ]
  },
  {
   "cell_type": "code",
   "execution_count": null,
   "id": "7a2044bf",
   "metadata": {},
   "outputs": [],
   "source": [
    "import cv2\n",
    "import numpy as np\n",
    "from matplotlib import pyplot as plt\n",
    "from PIL import Image, ImageEnhance\n",
    "img= cv2.imread('img2.jpg',0)\n",
    "ax-plt.subplots(figsize=(20,10))\n",
    "kernel = np.ones((5,5), np. uint8)\n",
    "opening = cv2.morphologyEx(img, cv2.MORPH_OPEN, kernel) \n",
    "closing cv2.morphologyEx(img, cv2.MORPH CLOSE, kernel)\n",
    "erosion= cv2. erode (img, kernel, iterations = 1)\n",
    "dilation cv2.dilate (img, kernel, iterations - 1)\n",
    "gradient cv2.morphologyEx(img, cv2.MORPH GRADIENT, kernel)\n",
    "plt.subplot (151)\n",
    "plt.imshow(opening)\n",
    "plt.subplot (152)\n",
    "plt.imshow(closing)\n",
    "plt.subplot(153)\n",
    "plt.imshow(erosion)\n",
    "plt.subplot(154)\n",
    "plt.imshow(dilation)\n",
    "plt.subplot (155)\n",
    "plt.imshow(gradient)\n",
    "cv2.waitKey(e)"
   ]
  }
 ],
 "metadata": {
  "kernelspec": {
   "display_name": "Python 3 (ipykernel)",
   "language": "python",
   "name": "python3"
  },
  "language_info": {
   "codemirror_mode": {
    "name": "ipython",
    "version": 3
   },
   "file_extension": ".py",
   "mimetype": "text/x-python",
   "name": "python",
   "nbconvert_exporter": "python",
   "pygments_lexer": "ipython3",
   "version": "3.9.7"
  }
 },
 "nbformat": 4,
 "nbformat_minor": 5
}
