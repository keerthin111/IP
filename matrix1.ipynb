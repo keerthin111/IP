{
 "cells": [
  {
   "cell_type": "code",
   "execution_count": 3,
   "id": "4e8e2887",
   "metadata": {},
   "outputs": [
    {
     "data": {
      "image/png": "[encoded data removed]",
      "text/plain": [
       "<Figure size 504x252 with 1 Axes>"
      ]
     },
     "metadata": {
      "needs_background": "light"
     },
     "output_type": "display_data"
    }
   ],
   "source": [
    "from matplotlib import pyplot as plt\n",
    "import numpy as np\n",
    "\n",
    "# Set the figure size\n",
    "plt.rcParams[\"figure.figsize\"] = [7.00, 3.50]\n",
    "plt.rcParams[\"figure.autolayout\"] = True\n",
    "\n",
    "# Random data points\n",
    "data = np.random.rand(4, 4)\n",
    "\n",
    "# Plot the data using imshow with gray colormap\n",
    "plt.imshow(data, cmap='gray')\n",
    "\n",
    "# Display the plot\n",
    "plt.show()"
   ]
  },
  {
   "cell_type": "code",
   "execution_count": 4,
   "id": "e0ec6ba5",
   "metadata": {},
   "outputs": [
    {
     "data": {
      "image/png": "[encoded data removed]",
      "text/plain": [
       "<Figure size 504x252 with 1 Axes>"
      ]
     },
     "metadata": {
      "needs_background": "light"
     },
     "output_type": "display_data"
    }
   ],
   "source": [
    "import matplotlib.pyplot as plt\n",
    "M=([2,2,2,2,2],\n",
    "  [2,1,1,1,2],\n",
    "  [2,1,0,1,2],\n",
    "  [2,1,1,1,2],\n",
    "  [2,2,2,2,2])\n",
    "plt.imshow(M)\n",
    "plt.show()"
   ]
  },
  {
   "cell_type": "code",
   "execution_count": 5,
   "id": "050ee3c1",
   "metadata": {},
   "outputs": [
    {
     "name": "stdout",
     "output_type": "stream",
     "text": [
      "<class 'numpy.ndarray'>\n",
      "(848, 600, 3)\n",
      "<class 'PIL.Image.Image'>\n",
      "RGB\n",
      "(600, 848)\n",
      "[[[ 79  80  40]\n",
      "  [ 79  80  40]\n",
      "  [ 79  80  40]\n",
      "  ...\n",
      "  [ 97  93  46]\n",
      "  [ 97  93  46]\n",
      "  [ 97  93  46]]\n",
      "\n",
      " [[ 80  81  41]\n",
      "  [ 80  81  41]\n",
      "  [ 80  81  41]\n",
      "  ...\n",
      "  [ 97  93  46]\n",
      "  [ 97  93  46]\n",
      "  [ 97  93  46]]\n",
      "\n",
      " [[ 80  81  41]\n",
      "  [ 80  81  41]\n",
      "  [ 80  81  41]\n",
      "  ...\n",
      "  [ 97  93  46]\n",
      "  [ 97  93  46]\n",
      "  [ 97  93  46]]\n",
      "\n",
      " ...\n",
      "\n",
      " [[114 107  37]\n",
      "  [114 107  37]\n",
      "  [115 108  38]\n",
      "  ...\n",
      "  [124 122  47]\n",
      "  [124 122  47]\n",
      "  [124 122  47]]\n",
      "\n",
      " [[113 106  36]\n",
      "  [114 107  37]\n",
      "  [114 107  37]\n",
      "  ...\n",
      "  [123 121  46]\n",
      "  [124 122  47]\n",
      "  [124 122  47]]\n",
      "\n",
      " [[113 106  36]\n",
      "  [114 107  37]\n",
      "  [114 107  37]\n",
      "  ...\n",
      "  [123 121  46]\n",
      "  [123 121  46]\n",
      "  [124 122  47]]]\n"
     ]
    }
   ],
   "source": [
    "from PIL import Image\n",
    "from numpy import asarray\n",
    "# load the image\n",
    "image = Image.open('img2.jpg')\n",
    "# convert image to numpy array\n",
    "data = asarray(image)\n",
    "print(type(data))\n",
    "# summarize shape\n",
    "print(data.shape)\n",
    "\n",
    "# create Pillow image\n",
    "image2 = Image.fromarray(data)\n",
    "print(type(image2))\n",
    "\n",
    "# summarize image details\n",
    "print(image2.mode)\n",
    "print(image2.size)\n",
    "print(data)"
   ]
  },
  {
   "cell_type": "code",
   "execution_count": 8,
   "id": "e693e274",
   "metadata": {},
   "outputs": [],
   "source": [
    "from PIL import Image\n",
    "import numpy as np\n",
    "\n",
    "w, h = 512, 512\n",
    "data = np.zeros((h, w, 3), dtype=np.uint8)\n",
    "data[0:255, 0:255] = [255, 255, 0] # red patch in upper left\n",
    "img = Image.fromarray(data, 'RGB')\n",
    "img.save('img9.jpg')\n",
    "img.show()"
   ]
  },
  {
   "cell_type": "code",
   "execution_count": 9,
   "id": "d49db0e7",
   "metadata": {},
   "outputs": [
    {
     "data": {
      "image/png": "[encoded data removed]",
      "text/plain": [
       "<Figure size 504x252 with 1 Axes>"
      ]
     },
     "metadata": {
      "needs_background": "light"
     },
     "output_type": "display_data"
    }
   ],
   "source": [
    "import matplotlib.pyplot as plt \n",
    "import numpy as np \n",
    "from matplotlib.colors import LogNorm \n",
    "       \n",
    "dx, dy = 0.015, 0.015\n",
    "x = np.arange(-1.0, 1.0, dx) \n",
    "y = np.arange(-1.0, 1.0, dy) \n",
    "X, Y = np.meshgrid(x, y) \n",
    "    \n",
    "extent = np.min(x), np.max(x), np.min(y), np.max(y) \n",
    "     \n",
    "   \n",
    "Z1 = np.add.outer(range(4), range(4)) % 2\n",
    "plt.imshow(Z1, cmap =\"binary_r\",  \n",
    "           interpolation ='nearest', \n",
    "           extent = extent, alpha = 1) \n",
    "    \n",
    "def abc(x, y): \n",
    "    return (1 - x / 2 + x**1+ y**1) * np.exp(-(x**20 + y**20)) \n",
    "    \n",
    "Z2 = abc(X, Y) \n",
    "    \n",
    "plt.imshow(Z2, alpha = 0.7, \n",
    "           interpolation ='bilinear', \n",
    "           extent = extent) \n",
    "   \n",
    "plt.set_cmap(\"gist_rainbow\") \n",
    "plt.title('matplotlib.pyplot.set_cmap() Example') \n",
    "plt.show() "
   ]
  },
  {
   "cell_type": "code",
   "execution_count": null,
   "id": "9cd1e076",
   "metadata": {},
   "outputs": [],
   "source": []
  }
 ],
 "metadata": {
  "kernelspec": {
   "display_name": "Python 3 (ipykernel)",
   "language": "python",
   "name": "python3"
  },
  "language_info": {
   "codemirror_mode": {
    "name": "ipython",
    "version": 3
   },
   "file_extension": ".py",
   "mimetype": "text/x-python",
   "name": "python",
   "nbconvert_exporter": "python",
   "pygments_lexer": "ipython3",
   "version": "3.9.7"
  }
 },
 "nbformat": 4,
 "nbformat_minor": 5
}
