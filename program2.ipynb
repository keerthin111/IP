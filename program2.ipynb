{
 "cells": [
  {
   "cell_type": "code",
   "execution_count": 3,
   "id": "945b926c",
   "metadata": {},
   "outputs": [],
   "source": [
    "import cv2\n",
    "#read the image file\n",
    "img=cv2.imread('rose.jpg')\n",
    "cv2.imshow(\"RGB\",img)\n",
    "cv2.waitKey(0)\n",
    "#gray scale\n",
    "img=cv2.imread('rose.jpg',0)\n",
    "cv2.imshow(\"Gray\",img)\n",
    "cv2.waitKey(0)\n",
    "#Binary image\n",
    "ret,bw_img=cv2.threshold(img,127,255,cv2.THRESH_BINARY)\n",
    "cv2.imshow(\"Binary\",bw_img)\n",
    "cv2.waitKey(0)\n",
    "cv2.destroyAllWindows()"
   ]
  },
  {
   "cell_type": "code",
   "execution_count": null,
   "id": "b14ad544",
   "metadata": {},
   "outputs": [],
   "source": []
  },
  {
   "cell_type": "code",
   "execution_count": null,
   "id": "f2d0fd21",
   "metadata": {},
   "outputs": [],
   "source": []
  }
 ],
 "metadata": {
  "kernelspec": {
   "display_name": "Python 3 (ipykernel)",
   "language": "python",
   "name": "python3"
  },
  "language_info": {
   "codemirror_mode": {
    "name": "ipython",
    "version": 3
   },
   "file_extension": ".py",
   "mimetype": "text/x-python",
   "name": "python",
   "nbconvert_exporter": "python",
   "pygments_lexer": "ipython3",
   "version": "3.9.7"
  }
 },
 "nbformat": 4,
 "nbformat_minor": 5
}
